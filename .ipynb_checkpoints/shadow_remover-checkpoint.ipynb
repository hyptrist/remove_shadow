{
 "cells": [
  {
   "cell_type": "code",
   "execution_count": null,
   "id": "d7c1fc9a",
   "metadata": {},
   "outputs": [],
   "source": [
    "def shadow_removal ():\n",
    "    import cv2,os\n",
    "    import numpy as np\n",
    "    print(os.path.abspath(\"test/1.jpeg\"))\n",
    "    img = cv2.imread(os.path.abspath(\"test/1.jpeg\"), -1)\n",
    "    rgb_planes = cv2.split(img)\n",
    "    result_planes = []\n",
    "    #result_norm_planes = []\n",
    "    for plane in rgb_planes:\n",
    "        dilated_img = cv2.dilate(plane, np.ones((7,7), np.uint8))\n",
    "        bg_img = cv2.medianBlur(dilated_img, 21)\n",
    "        diff_img = 255 - cv2.absdiff(plane, bg_img)\n",
    "        #norm_img = cv2.normalize(diff_img,diff_img, alpha=0, beta=255, norm_type=cv2.NORM_MINMAX, dtype=cv2.CV_8UC1)\n",
    "        result_planes.append(diff_img)\n",
    "        #result_norm_planes.append(norm_img)\n",
    "    result = cv2.merge(result_planes)\n",
    "    #result_norm = cv2.merge(result_norm_planes)\n",
    "    cv2.imwrite('shadows_out.png', result)\n",
    "    #cv2.imwrite('shadows_out_norm.png', result_norm)\n",
    "    shadow_removal()\n"
   ]
  }
 ],
 "metadata": {
  "kernelspec": {
   "display_name": "Python 3 (ipykernel)",
   "language": "python",
   "name": "python3"
  },
  "language_info": {
   "codemirror_mode": {
    "name": "ipython",
    "version": 3
   },
   "file_extension": ".py",
   "mimetype": "text/x-python",
   "name": "python",
   "nbconvert_exporter": "python",
   "pygments_lexer": "ipython3",
   "version": "3.9.13"
  }
 },
 "nbformat": 4,
 "nbformat_minor": 5
}
